{
  "nbformat": 4,
  "nbformat_minor": 0,
  "metadata": {
    "colab": {
      "provenance": []
    },
    "kernelspec": {
      "name": "python3",
      "display_name": "Python 3"
    },
    "language_info": {
      "name": "python"
    }
  },
  "cells": [
    {
      "cell_type": "markdown",
      "source": [
        "# Utilization of Monte Carlo and Dynamic Programming in Determining Best Course of Treatment in a Tumor Microenvironment"
      ],
      "metadata": {
        "id": "0TvuTiUkkL89"
      }
    },
    {
      "cell_type": "markdown",
      "source": [
        "https://github.com/gjaroli/COGS188_group_template"
      ],
      "metadata": {
        "id": "VCeOPJSWO7Mx"
      }
    },
    {
      "cell_type": "markdown",
      "source": [
        "# Group Members\n",
        "- Kristoffer Alejo\n",
        "- Garvit Jaroli\n",
        "- Eric Chun\n",
        "- Rayan Abu-Hantash"
      ],
      "metadata": {
        "id": "LPYOuB0Kktla"
      }
    },
    {
      "cell_type": "markdown",
      "source": [
        "# Abstract\n",
        "For our project, we aim to develop a simulation of the tumor microenvironment (particularly a Breast Cancer microenvironment) using a Markov Decision Process (MDP) and Monte Carlo simulation to model the immune system's response to cancer with various treatment strategies (i.e. different cytokine-based immunotherapy and also chemotherapy). The data utilized includes mutation rates for BRCA (Breast Cancer), the distribution of different immune cells in the BRCA tumor environment, and also network data showing which cytokines affect which immune cells, and as a result we are able to show how immune cells affect the tumor. This data will be utilized in order to create our own tumor microenvironment where we will be able to initialize our own state space and regulate the state action transitions. By using these different algorithms we hope to identify the best actions for reducing cancer while minimizing damage to the immune system. Success will be measured by the percentage of simulations that are able to successfully reach the desired goal state as that will indicate the effective tumor suppression while also maintaining the immune system together.\n"
      ],
      "metadata": {
        "id": "AMOCCFQnk8fs"
      }
    },
    {
      "cell_type": "markdown",
      "source": [
        "# Background\n",
        "In our study, we plan to create a simulation of a tumor microenvironment, where we aim to analyze the immune system’s response to cancer as well as potential therapies and drug treatments. First we must define what a tumor microenvironment is. As defined by the National Cancer Institute (NIH), they define a tumor microenvironment as “The normal cells, molecules, and blood vessels that surround and feed a tumor cell. A tumor can change its microenvironment, and the microenvironment can affect how a tumor grows and spreads” [<sup>[1]</sup>](https://www.cancer.gov/publications/dictionaries/cancer-terms/def/tumor-microenvironment).\n",
        "\n",
        "So now we have to ask how we can model the tumor microenvironment? The article “Modelling the Tumour Microenvironment, but What Exactly Do We Mean by Model” answers this question. According to the author Reyes-Aldasoro, “Stochastic models of tumor microenvironments are more common than deterministic ones by an approximate ratio of 10 to 1, which is probably a reflection of the many factors related to cancer, like somatic evolution, which are not deterministic.” [<sup>[2]</sup>](https://pmc.ncbi.nlm.nih.gov/articles/PMC10416922/). Keeping this in mind we can take an MDP approach in modeling our tumor microenvironment as our state transitions are based on probabilities. Now to define our states, we refer back to the same article where they conducted a query to see the frequency of appearances of keywords associated with microenvironments, in order to determine which parameters may be necessary to keep in mind [<sup>[2]</sup>](https://pmc.ncbi.nlm.nih.gov/articles/PMC10416922/). Based on Figure 3 of this article and keeping in mind our limitations for this project, we have identified T cells, Cytokines, and Proliferation as key parameters to keep in mind when designing this model. Now to determine state transitions, the article discusses a series of mathematical models most notably the Malthusian Growth Model and Armitage and Doll Model which can be used to define our state transitions, particularly for cancer cell levels [<sup>[2]</sup>](https://pmc.ncbi.nlm.nih.gov/articles/PMC10416922/).\n",
        "\n",
        "When modeling the tumor microenvironment, we have defined T-cells as a key parameter in how we will approach our states, state transitions, and action space. According to the article “Role of T cells in cancer immunotherapy: Opportunities and challenges”, they state how T-cell therapy, particularly chimeric antigen receptor T cell therapy (CAR-T), can be very effective in eliminating cancer cells, however it can also potentially compromise the immune system [<sup>[3]</sup>](https://pmc.ncbi.nlm.nih.gov/articles/PMC10846312/). Therefore there needs to be a balance between T-cell therapy destroying cancer cells and not compromising the immune system. Pertaining to our action space, we can include T-cell therapy as an action where it will increase the number of T-cells and decrease the cancer levels. However, we can incorporate some probability of it compromising the immune system in our MDP implementation. Additionally, cytokines play an important role in this tumor microenvironment model, as we can use it to determine the state of the immune system. For example, when utilizing CAR-T therapy, it can cause a large release of cytokines, which leads to a severe reaction of the immune system. Additionally, when cytokine levels are low, it means the immune system is unresponsive, as a result, the tumor will continue to grow. In the article “Current Status of IL-10 and Regulatory T-cells in Cancer”, the article largely discusses the role of the IL-10 gene which is a type of cytokine. Their findings were that even though it was previously known that IL-10 was inhibiting T-cell activity, it can actually enhance T-cell activity when paired with genes such as IL-2 which is known to increase T-cell activity [<sup>[4]</sup>](https://pmc.ncbi.nlm.nih.gov/articles/PMC4322764/). What this means is that IL-10 on its own would lead to uncontrollable tumor growth, whereas IL-10 accompanied by IL-2 will lead to tumor suppression. What this ultimately means is that tracking IL-2 and IL-10 in our microenvironment simulation will be necessary for determining the state of the tumor in addition to T-cell levels in the microenvironment.\n",
        "\n",
        "Bringing all of these concepts together, we can effectively generate a tumor microenvironment simulation utilizing MDP and Monte Carlo simulations in order to determine the best course of action to destroy a cancer cell while keeping the immune system intact. With the knowledge that tumor microenvironments are stochastic rather than deterministic, we have the understanding that there may not be a definitive course of action that will lead to our goal state. This is where the Monte Carlo methods will come in. By running the simulations hundreds if not thousands of times, we can average out each episode and see which course of action will give us the highest probability of a good outcome.\n"
      ],
      "metadata": {
        "id": "e1Ken-cIm-sK"
      }
    },
    {
      "cell_type": "markdown",
      "source": [
        "# Problem Statement\n",
        "Cancer treatments are known to be complex and complicated due to interactions between tumor cells and immune cells. Newly developed immunotherapy treatments like CAR-T cell therapy have been effective but also have had side effects such as overactivation or suppression of the immune system. Also known treatments such as chemotherapy have been known to destroy cancer cells but have also shown to affect immune cells as well. This is where the challenge lies in identifying the best strategies of treatment that would efficiently suppress tumor growth without affecting the immune state. We aim to address this issue by developing a simulation model of the tumor microenvironment by using a Markov Decision Process and Monte Carlo simulation. Our model will incorporate T-cell activity, cytokine interactions, and proliferation dynamics in an attempt to explore the probabilistic progression of cancer growth and treatment outcome. Based on the use of clinical and genomic information, our goal is to create an AI system that learns and provides the best immunotherapy regimen recommendations through reinforcement learning. Our model's problem is expressed through a state space, action space, transition probabilities, and reward function. The tumor microenvironment is represented by key variables such as cancer cell levels, T-cell counts, and cytokine concentrations, while treatment actions, including chemotherapy and cytokine modulation, influence state transitions based on real-world clinical data. Transition probabilities capture the likelihood of moving between states, and a reward function is designed to optimize tumor reduction while maintaining immune stability. We will be measuring tumor cell reduction, cumulative reward, and success rate. Our problem is replicable as our model will be trained on publicly available clinical datasets so that it can be reproduced by other people."
      ],
      "metadata": {
        "id": "3mRAjKH6nTYq"
      }
    },
    {
      "cell_type": "markdown",
      "source": [
        "# Data\n",
        "\n",
        "- **Name**: CIBERSORT immune fractions  \n",
        "- **Link**: [The Immune Landscape of Cancer | NCI Genomic Data Commons](https://gdc.cancer.gov/about-data/publications/panimmune)  \n",
        "- **Dataset Size**: 11,373 rows × 27 columns  \n",
        "- **Features**:  \n",
        "  - `'SampleID'`, `'CancerType'`, `'B.cells.naive'`, `'B.cells.memory'`, `'Plasma.cells'`, `'T.cells.CD8'`  \n",
        "  - `'T.cells.CD4.naive'`, `'T.cells.CD4.memory.resting'`, `'T.cells.CD4.memory.activated'`  \n",
        "  - `'T.cells.follicular.helper'`, `'T.cells.regulatory..Tregs.'`, `'T.cells.gamma.delta'`  \n",
        "  - `'NK.cells.resting'`, `'NK.cells.activated'`, `'Monocytes'`  \n",
        "  - `'Macrophages.M0'`, `'Macrophages.M1'`, `'Macrophages.M2'`  \n",
        "  - `'Dendritic.cells.resting'`, `'Dendritic.cells.activated'`  \n",
        "  - `'Mast.cells.resting'`, `'Mast.cells.activated'`, `'Eosinophils'`, `'Neutrophils'`  \n",
        "  - `'P.value'`, `'Correlation'`, `'RMSE'`  \n",
        "- **Key Variables**:  \n",
        "  Each observation contains a **sample**, **cancer type**, and **normalized metrics** for expression levels of different **Immune Cells** (e.g., CD8 and CD4).  \n",
        "- **Handling**:  \n",
        "  We will **filter** for our cancer type of interest, in our case **Breast Cancer (BRCA)** and **keep features** corresponding to **CD8-T-cells**, **Natural Killer Cells (NK)** and **M1 macrophages**.  \n",
        "\n",
        "---\n",
        "\n",
        "- **Name**: Mutation Load  \n",
        "- **Link**: [The Immune Landscape of Cancer | NCI Genomic Data Commons](https://gdc.cancer.gov/about-data/publications/panimmune)  \n",
        "- **Dataset Size**: 10,123 rows × 5 columns  \n",
        "- **Features**:  \n",
        "  - `'Cohort'`  \n",
        "  - `'Patient_ID'`  \n",
        "  - `'Tumor_Sample_ID'`  \n",
        "  - `'Silent per Mb'`  \n",
        "  - `'Non-silent per Mb'`  \n",
        "- **Key Variables**:  \n",
        "  - `Cohort` identifies **cancer types of interest**.  \n",
        "  - `Silent per Mb` represents **mutation rates**, where **higher silent values** mean **immune therapies are less effective**.  \n",
        "  - `Non-silent per Mb` indicates a **higher likelihood** of being targeted by **T-cells**.  \n",
        "- **Handling**:  \n",
        "  - **Filter by `Cohort`** for the cancer of interest **(BRCA)**.  \n",
        "  - **Keep both `Silent per Mb` & `Non-silent per Mb`** to track cancer progression.  \n",
        "\n",
        "---\n",
        "\n",
        "- **Name**: Subtype-specific cytokine network with scores  \n",
        "- **Link**: [The Immune Landscape of Cancer | NCI Genomic Data Commons](https://gdc.cancer.gov/about-data/publications/panimmune)  \n",
        "- **Dataset Size**: 660 rows × 4 columns  \n",
        "- **Features**:  \n",
        "  - `'Subtype'`  \n",
        "  - `'From'` → **Cytokine type**  \n",
        "  - `'To'` → **Affected cell type**  \n",
        "  - `'Score'` → **Strength of the effect**  \n",
        "- **Key Variables**:  \n",
        "  - `'From'` represents the **cytokine type**.  \n",
        "  - `'To'` represents the **affected cell type**.  \n",
        "  - `'Score'` indicates how **strongly the cytokine affects the process**.  \n",
        "- **Handling**:\n",
        "  - **Filter** `'To'` column to only keep immune cells we are interested in (**CD8-T-cells**, **Natural Killer Cells (NK)** and **M1 macrophages**)  \n",
        "  - **Filter** `'From'` to **only** contain the top 7 cytokines included in this filtered network:  \n",
        "    - `CXCR3`  \n",
        "    - `ITGB2`  \n",
        "    - `TNFRSF9`  \n",
        "    - `PDCD1`\n",
        "    - `CD27`  \n",
        "    - `CD28`  \n",
        "    - `IL2RA`\n",
        "\n",
        "---\n",
        "\n",
        "\n"
      ],
      "metadata": {
        "id": "TY7qHojFMYxH"
      }
    },
    {
      "cell_type": "markdown",
      "source": [
        "### Proposed Solution\n",
        "\n",
        "Keeping in mind the complex nature of tumor microenvironments and the need to balance attacking cancer cells while minimizing damage to immune cells, we propose the following step-by-step process to determine the best course of treatment:\n",
        "\n",
        "1. Modeling the Tumor Environment – We will model the tumor environment as a Markov Decision Process (MDP), where the states represent the levels of cancer cells, T-cells, and cytokines. The available actions in the decision process will include therapies such as various types of cytokine modulation and chemotherapy. Since tumor microenvironments exhibit inherent variability, state transitions will be modeled probabilistically.\n",
        "\n",
        "2. Simulation and Training – We will use Monte Carlo simulations to explore the state-action space by running thousands of simulations. This approach allows us to average out outcomes and identify the most effective treatment strategies. Additionally, we will employ reinforcement learning techniques, specifically Q-learning, to train our model. The Reinforcement Learning Agent will learn an optimal policy by maximizing a cumulative reward function that balances tumor reduction with immune stability.\n",
        "\n",
        "3. Feature Selection and Model Training – We will perform feature selection to identify the most relevant variables that influence treatment outcomes. This will help reduce model complexity and improve generalization. To optimize the RL agent's performance, we will explore different hyperparameters while maintaining computational efficiency by focusing on a select few key parameters.\n",
        "\n",
        "4. Benchmark Model Comparison – Monte Carlo will serve as our benchmark model, representing a non-learning, fixed-policy approach. We will compare its performance against our Q-learning-based solution to assess the improvements in treatment strategy. The comparison will focus on key evaluation metrics such as:\n",
        "\n",
        "   - Tumor reduction\n",
        "   - Convergence speed\n",
        "   - Overall success rate\n",
        "\n",
        "This solution will be tested through Monte Carlo simulations that explore the state-action space and evaluate the performance of our RL agent. By averaging the results from these simulations, we will determine the success rate of the proposed therapies and assess the overall effectiveness of our approach. Comparing the Monte Carlo benchmark with Q-learning will provide insights into how reinforcement learning improves decision-making in complex and uncertain tumor microenvironments.Our approach is particularly suited to this problem because it directly addresses the stochastic and dynamic nature of tumor microenvironments, which cannot be effectively modeled using deterministic methods. By framing the problem as an MDP and using reinforcement learning, we account for probabilistic state transitions and adaptive decision-making.\n",
        "\n",
        "Additionally, our model is designed to be replicable, as it will be trained on publicly available clinical datasets, allowing other researchers to reproduce and validate our findings.\n"
      ],
      "metadata": {
        "id": "PQyE6jhlWyUH"
      }
    },
    {
      "cell_type": "markdown",
      "source": [
        "# Model Development\n",
        "\n",
        "Our first step in developing our model is defining our tumor microenvironment state space, possible actions, and state transitions. We have defined our state space as follows:\n",
        "\n",
        "$$S_t = C_{cancer}, C_{CD8}, C_{NK}, C_{M1}, \\lambda_{tumor}, P_{death}, C_{cytokines}$$\n",
        "\n",
        "where:\n",
        "- $C_{cancer}$ = number of cancer cells\n",
        "- $C_{CD8}$ = number of CD8 T cells\n",
        "- $C_{NK}$ = number of NK cells\n",
        "- $C_{M1}$ = number of M1 Macrophages\n",
        "- $\\lambda_{tumor}$ = proliferation rate of each cancer cell stored as a list\n",
        "- $P_{death}$ = probability of tumor cell death\n",
        "- $C_{cytokines}$ = number of cytokines stored as a tuple (cxcr3, itgb2, tnfrsf9, pdcd1, cd27, cd28, il2ra)\n",
        "\n",
        "We have also defined the following action space:\n",
        "- `'Do Nothing'`\n",
        "- `'Chemotherapy'`\n",
        "- `'Boost Pro Immune Cytokines'`\n",
        "- `'Boost Tumor Suppression Cytokines'`\n",
        "- `'Boost Immune Suppression Cytokines'`\n",
        "\n",
        "Defining our state transition is a complex process determined by multiple mathematical formulations:\n",
        "- $C_{cancer}$: Based on the $\\lambda_{tumor}$, we normalize based on the maximum proliferation rate and divide that by some scalar to generate a probability that that cell will proliferate. If a cell proliferates it will assume the proliferation rate of the previous cell it came from. Additionally during chemotherapy we will decrease this signficantly\n",
        "- $C_{CD8}$: This is updated through the following circumstances\n",
        "  - Boosting Cytokines: We will refer to the `'Subtype-specific cytokine network with scores'` dataset. Based on the relationship score between the cytokine we are boosting and this immune cell, we will adjust the counts accordingly\n",
        "  - Chemotherapy: During chemotherapy, immune cells are destroyed in additon to cancer cells, as a result we will drop this value signficantly\n",
        "  - Do Nothing: This will remain the same\n",
        "- $C_{NK}$:\n",
        "  - follows the same format as $C_{CD8}$\n",
        "- $C_{M1}$:\n",
        "  - follows the same format as $C_{CD8}$\n",
        "- $\\lambda_{tumor}$: Tumor proliferation rates are calculated with the following formulation\n",
        "  - $\\lambda_{tumor_{t}} = \\lambda_{tumor_{t-1}} \\cdot (1 - \\frac{w_1C_{CD8} + w_2C_{NK} + w_3C_{M1}}{K + C_{CD8} + C_{NK} + C_{M1}})$\n",
        "    - where $w_1, w_2, w_3$ are scalar functions where $w_1> w_2> w_3$\n",
        "    - where K is a constant\n",
        "  - This equation ensures that as the number of immune cells increase, it will prevent the tumor cells from increasing in their proliferation rates.\n",
        "- $P_{death}$: Probability of tumor cell death is calculated with the following formuation\n",
        "  - $P_{death_{t}} = P_{death_{t-1}} * (1 - normalized(\\lambda_{tumor_{t}}))$\n",
        "    - where $normalized(\\lambda_{tumor_{t}}) = \\lambda_{tumor_{t}} \\cdot (max(\\lambda_{tumor_{t}})+1e^{-8}) $\n",
        "      - this is meant to ensure that the death probability is lower for cells that have higher proliferation rates, meaning that cells that exist longer are more immune to cell death\n",
        "- $C_{cytokines}$:\n",
        "  - Boosting Cytokines: since this is a control variable we will increase the cytokines by 20% based on the type of cytokine therapy\n",
        "  - Chemotherapy: During chemotherapy, cytokines are destroyed in additon to cancer cells, as a result we will drop this value signficantly\n",
        "  - Do Nothing: This will remain the same\n",
        "\n",
        "Defing our terminal states, we are given 2 possible states cancer elimination or patient death. This is given as follows:\n",
        "- if $C_{cancer} = 0$ we have fully eliminated the cancer (success)\n",
        "- if $C_{cancer} \\geq 5,000,000$ tumor has grown too much (death)\n",
        "- if $\\sum$ (all immune cells) $\\leq 1e^{-6}$ immune cell compromised (death)\n",
        "- if $\\sum$ (all immune cells) $\\geq 19000$ immune cells attacking all cells (death)"
      ],
      "metadata": {
        "id": "klZRX62wXgyl"
      }
    },
    {
      "cell_type": "markdown",
      "source": [
        "Below is the functions that we would use to inititalize our state"
      ],
      "metadata": {
        "id": "XdCN9KlK48vw"
      }
    },
    {
      "cell_type": "code",
      "source": [
        "# now we will need to initalize proliferation rates\n",
        "# to do this we will refer to the mutations_df\n",
        "# we will use the non-silent per Mb values for this\n",
        "# we will create the following funciton which will sample n number of proliferation rates corresponding to the distrubtion of the non-siler per Mb values from the dataset\n",
        "def initialize_cancer_cell_levels(cancer_cell_level_df, bins = 200, n_cells = 10):\n",
        "  # capture frequency and bin edges of distribution\n",
        "  n, bin_edges, _ = plt.hist(cancer_cell_level_df['Non-silent per Mb'], bins = bins)\n",
        "  # get bin probability based on distribution\n",
        "  bin_probs = n / np.sum(n)\n",
        "  # loop n_cell times and store initialization values in an array\n",
        "  cancer_cell_levels_list = []\n",
        "  for _ in range(n_cells):\n",
        "    # select the bin\n",
        "    selected_bin_index = np.random.choice(len(bin_probs), p = bin_probs)\n",
        "    # select the value\n",
        "    synthetic_value = np.random.uniform(bin_edges[selected_bin_index], bin_edges[selected_bin_index + 1])\n",
        "    # append value to list\n",
        "    cancer_cell_levels_list.append(synthetic_value)\n",
        "  return cancer_cell_levels_list\n"
      ],
      "metadata": {
        "id": "gk_oJ2Ty6RLG"
      },
      "execution_count": null,
      "outputs": []
    },
    {
      "cell_type": "code",
      "source": [
        "def initialize_state(n_cancer_cells=10):\n",
        "  # we already defined the number of cancer cells in the parameters\n",
        "  # initialte number of immune cells\n",
        "  scaled_revised_immune_df = revised_immune_df.iloc[:, 2:] * 10 * number_of_cancer_cells\n",
        "  cd8_counts, m1_counts, nk_counts = scaled_revised_immune_df.sample(n=1).values[0]\n",
        "  # initiate proliferation rates\n",
        "  initialize_proliferation_rates = initialize_cancer_cell_levels(mutations_df, bins = 200, n_cells = number_of_cancer_cells)\n",
        "  # initaialize tumor death probability\n",
        "  cell_death_prob = calc_cell_death_probability(0.01, 0.005, 0.002, cd8_counts, nk_counts, m1_counts)\n",
        "  # initialize cytokine counts\n",
        "  CXCR3, ITGB2, TNFRSF9, PDCD1, CD27, CD28, IL2RA = (10 ,12, 25, 15, 10, 9, 18)\n",
        "  cytokine_count = CXCR3, ITGB2, TNFRSF9, PDCD1, CD27, CD28, IL2RA\n",
        "  state = {\n",
        "      'Number of Cancer Cells': number_of_cancer_cells,\n",
        "      'CD8 Count': cd8_counts,\n",
        "      'M1 Count': m1_counts,\n",
        "      'NK Count': nk_counts,\n",
        "      'Tumor Proliferation Rates': initialize_proliferation_rates,\n",
        "      'Cell Death Probability': cell_death_prob,\n",
        "      'Cytokine Levels': cytokine_count\n",
        "  }\n",
        "  return state"
      ],
      "metadata": {
        "id": "35SVXPSj455R"
      },
      "execution_count": null,
      "outputs": []
    },
    {
      "cell_type": "markdown",
      "source": [
        "Below is our action space"
      ],
      "metadata": {
        "id": "iHUoYhfG5uGF"
      }
    },
    {
      "cell_type": "code",
      "source": [
        "action_space = ['Do Nothing', 'Chemotherapy', 'Boost Pro Immune Cytokines', 'Boost Tumor Suppression Cytokines', 'Boost Immune Suppression Cytokines']"
      ],
      "metadata": {
        "id": "01Ufr_2B5tjt"
      },
      "execution_count": null,
      "outputs": []
    },
    {
      "cell_type": "markdown",
      "source": [
        "Below is the function that we will use to define state action transitions"
      ],
      "metadata": {
        "id": "raDHA_to5E0A"
      }
    },
    {
      "cell_type": "code",
      "source": [
        "def state_transitions(state, action):\n",
        "  # store our new state first as copy of the original\n",
        "  new_state = state.copy()\n",
        "\n",
        "  # Action: Do Nothing\n",
        "  # Keep current state\n",
        "  # run proliferation with current state parameters\n",
        "  # run cell death with current state parameters\n",
        "  if action == 'Do Nothing':\n",
        "    # run the proliferation step\n",
        "    new_state['Tumor Proliferation Rates'], new_state['Number of Cancer Cells'] = proliferate_tumor_cells(new_state['Tumor Proliferation Rates'])\n",
        "    # run the cell death step\n",
        "    new_state['Tumor Proliferation Rates'], new_state['Number of Cancer Cells'] = tumor_cell_death(new_state['Tumor Proliferation Rates'], new_state['Cell Death Probability'])\n",
        "\n",
        "  # Action: Chemotherapy\n",
        "  # Drastically increase cell death probability\n",
        "  # reduce proliferation rates\n",
        "  # decrease the number of immune cells also\n",
        "  # decrease cytokine levels\n",
        "  if action == 'Chemotherapy':\n",
        "    # reduce proliferation rates\n",
        "    for i, rate in enumerate(new_state['Tumor Proliferation Rates']):\n",
        "      if np.random.rand() < 0.7:\n",
        "        decrease_rate = np.random.uniform(0.3, 0.5)\n",
        "        new_state['Tumor Proliferation Rates'][i] *= decrease_rate\n",
        "    # run the proliferation step\n",
        "    new_state['Tumor Proliferation Rates'], new_state['Number of Cancer Cells'] = proliferate_tumor_cells(new_state['Tumor Proliferation Rates'], 10)\n",
        "    # incrase cell death probability by 3x\n",
        "    new_state['Cell Death Probability'] = min(0.9, new_state['Cell Death Probability'] * 3.5)\n",
        "    # run the cell death step\n",
        "    new_state['Tumor Proliferation Rates'], new_state['Number of Cancer Cells'] = tumor_cell_death(new_state['Tumor Proliferation Rates'], new_state['Cell Death Probability'])\n",
        "\n",
        "    # decrase the number of immune cells\n",
        "    if np.random.rand() < 0.97:\n",
        "      new_state['CD8 Count'] *= np.random.uniform(0.2, 0.5)\n",
        "      new_state['NK Count'] *= np.random.uniform(0.3, 0.7)\n",
        "      new_state['M1 Count'] *= np.random.uniform(0.5, 0.7)\n",
        "      new_state['Cytokine Levels']\n",
        "    # decrase the number of cytokines\n",
        "    if np.random.rand() < 0.95:\n",
        "      cxcr3 = new_state['Cytokine Levels'][0] * np.random.uniform(0.2, 0.5)\n",
        "      itgb2 = new_state['Cytokine Levels'][1] * np.random.uniform(0.2, 0.5)\n",
        "      tnfrsf9 = new_state['Cytokine Levels'][2] * np.random.uniform(0.2, 0.5)\n",
        "      pdcd1 = new_state['Cytokine Levels'][3] * np.random.uniform(1.2, 1.5)\n",
        "      cd27 = new_state['Cytokine Levels'][4] * np.random.uniform(0.2, 0.5)\n",
        "      cd28 = new_state['Cytokine Levels'][5] * np.random.uniform(0.2, 0.5)\n",
        "      il2ra = new_state['Cytokine Levels'][6] * np.random.uniform(0.2, 0.5)\n",
        "      new_state['Cytokine Levels'] = cxcr3, itgb2, tnfrsf9, pdcd1, cd27, cd28, il2ra\n",
        "    # update cell death probability\n",
        "    #new_state['Cell Death Probability'] = calc_cell_death_probability(0.01, 0.005, 0.002, new_state['CD8 Count'], new_state['NK Count'], new_state['M1 Count'])\n",
        "\n",
        "  # Action: Boost Pro Immune Cytokines\n",
        "  # Use the table above to regulate changes to immune cells\n",
        "  # increase tumor cell death probability\n",
        "  if action == 'Boost Pro Immune Cytokines':\n",
        "    # first boost the cytokine levels by 1.2\n",
        "    cxcr3 = new_state['Cytokine Levels'][0] * 1.2\n",
        "    itgb2 = new_state['Cytokine Levels'][1] * np.random.uniform(0.8, 0.95)\n",
        "    tnfrsf9 = new_state['Cytokine Levels'][2] * np.random.uniform(0.8, 0.95)\n",
        "    pdcd1 = new_state['Cytokine Levels'][3] * np.random.uniform(0.5, 0.8)\n",
        "    cd27 = new_state['Cytokine Levels'][4] * 1.2\n",
        "    cd28 = new_state['Cytokine Levels'][5] * 1.2\n",
        "    il2ra = new_state['Cytokine Levels'][6] * 1.2\n",
        "    new_state['Cytokine Levels'] = cxcr3, itgb2, tnfrsf9, pdcd1, cd27, cd28, il2ra\n",
        "    # second adjust immune cell values with probability 0.9\n",
        "    if np.random.rand() < 0.9:\n",
        "      new_state['CD8 Count'] *= 4.18\n",
        "      new_state['M1 Count'] *= 1.68\n",
        "      new_state['NK Count'] /= 1.5\n",
        "    # now let us adjust the proliferation levels\n",
        "    new_state['Tumor Proliferation Rates'] = calc_proliferation_rate(new_state['Tumor Proliferation Rates'], new_state['CD8 Count'], new_state['NK Count'], new_state['M1 Count'])\n",
        "    # run proliferation step\n",
        "    new_state['Tumor Proliferation Rates'], new_state['Number of Cancer Cells'] = proliferate_tumor_cells(new_state['Tumor Proliferation Rates'])\n",
        "    # adjust cell death probability\n",
        "    new_state['Cell Death Probability'] = calc_cell_death_probability(0.01, 0.005, 0.002, new_state['CD8 Count'], new_state['NK Count'], new_state['M1 Count'])\n",
        "    # run cell death step\n",
        "    new_state['Tumor Proliferation Rates'], new_state['Number of Cancer Cells'] = tumor_cell_death(new_state['Tumor Proliferation Rates'], new_state['Cell Death Probability'])\n",
        "\n",
        "  # Action: Boost Tumor Suppressing Cytokines\n",
        "  # Use the table above to regulate changes to immune cells\n",
        "  # increase tumor cell death probability\n",
        "  if action == 'Boost Tumor Suppression Cytokines':\n",
        "    # first boost the cytokine levels by 1.2x\n",
        "    cxcr3 = new_state['Cytokine Levels'][0] * np.random.uniform(0.85, 0.95)\n",
        "    itgb2 = new_state['Cytokine Levels'][1] * 1.2\n",
        "    tnfrsf9 = new_state['Cytokine Levels'][2] * 1.2\n",
        "    pdcd1 = new_state['Cytokine Levels'][3] * np.random.uniform(0.5, 0.8)\n",
        "    cd27 = new_state['Cytokine Levels'][4] * np.random.uniform(0.85, 0.95)\n",
        "    cd28 = new_state['Cytokine Levels'][5] * np.random.uniform(0.85, 0.95)\n",
        "    il2ra = new_state['Cytokine Levels'][6] * np.random.uniform(0.85, 0.95)\n",
        "    new_state['Cytokine Levels'] = cxcr3, itgb2, tnfrsf9, pdcd1, cd27, cd28, il2ra\n",
        "    # second adjust immune cell values with probability 0.9\n",
        "    if np.random.rand() < 0.9:\n",
        "      new_state['CD8 Count'] *= 2.01\n",
        "      new_state['M1 Count'] *= 1.99\n",
        "      new_state['NK Count'] /= 1.41\n",
        "    # now let us adjust the proliferation levels\n",
        "    new_state['Tumor Proliferation Rates'] = calc_proliferation_rate(new_state['Tumor Proliferation Rates'], new_state['CD8 Count'], new_state['NK Count'], new_state['M1 Count'])\n",
        "    # run proliferation step\n",
        "    new_state['Tumor Proliferation Rates'], new_state['Number of Cancer Cells'] = proliferate_tumor_cells(new_state['Tumor Proliferation Rates'])\n",
        "    # adjust cell death probability\n",
        "    new_state['Cell Death Probability'] = min(0.999, calc_cell_death_probability(0.01, 0.005, 0.002, new_state['CD8 Count'], new_state['NK Count'], new_state['M1 Count']) * 1.2)\n",
        "    # run cell death step\n",
        "    new_state['Tumor Proliferation Rates'], new_state['Number of Cancer Cells'] = tumor_cell_death(new_state['Tumor Proliferation Rates'], new_state['Cell Death Probability'])\n",
        "\n",
        "\n",
        "  # Action: Boost Immune Suppressing Cytokines\n",
        "  # Use the table above to regulate changes to immune cells\n",
        "  # decrease tumor cell death probability\n",
        "  if action == 'Boost Immune Suppression Cytokines':\n",
        "    # first boost the cytokine levels by 1.2x\n",
        "    cxcr3 = new_state['Cytokine Levels'][0] * np.random.uniform(0.6, 0.8)\n",
        "    itgb2 = new_state['Cytokine Levels'][1] * np.random.uniform(0.85, 0.95)\n",
        "    tnfrsf9 = new_state['Cytokine Levels'][2] * np.random.uniform(0.85, 0.95)\n",
        "    pdcd1 = new_state['Cytokine Levels'][3] * 1.2\n",
        "    cd27 = new_state['Cytokine Levels'][4] * np.random.uniform(0.6, 0.8)\n",
        "    cd28 = new_state['Cytokine Levels'][5] * np.random.uniform(0.6, 0.8)\n",
        "    il2ra = new_state['Cytokine Levels'][6] * np.random.uniform(0.6, 0.8)\n",
        "    new_state['Cytokine Levels'] = cxcr3, itgb2, tnfrsf9, pdcd1, cd27, cd28, il2ra\n",
        "    # second adjust immune cell values with probability 0.9\n",
        "    if np.random.rand() < 0.9:\n",
        "      new_state['CD8 Count'] *= 2.01\n",
        "      new_state['M1 Count'] *= 1.99\n",
        "      new_state['NK Count'] /= 1.41\n",
        "    # now let us adjust the proliferation levels\n",
        "    new_state['Tumor Proliferation Rates'] = calc_proliferation_rate(new_state['Tumor Proliferation Rates'], new_state['CD8 Count'], new_state['NK Count'], new_state['M1 Count'])\n",
        "    # run proliferation step\n",
        "    new_state['Tumor Proliferation Rates'], new_state['Number of Cancer Cells'] = proliferate_tumor_cells(new_state['Tumor Proliferation Rates'])\n",
        "    # adjust cell death probability\n",
        "    new_state['Cell Death Probability'] = min(0.999, calc_cell_death_probability(0.01, 0.005, 0.002, new_state['CD8 Count'], new_state['NK Count'], new_state['M1 Count']) * 0.5)\n",
        "    # run cell death step\n",
        "    new_state['Tumor Proliferation Rates'], new_state['Number of Cancer Cells'] = tumor_cell_death(new_state['Tumor Proliferation Rates'], new_state['Cell Death Probability'])\n",
        "  return new_state\n"
      ],
      "metadata": {
        "id": "sWILP-mn5ENs"
      },
      "execution_count": null,
      "outputs": []
    },
    {
      "cell_type": "markdown",
      "source": [
        "Below is the function for how we will track rewards for each action taken"
      ],
      "metadata": {
        "id": "yjQdF0Zt5e9v"
      }
    },
    {
      "cell_type": "code",
      "source": [
        "# to collect rewards, we will look at new state after action and compare to previous state\n",
        "def collect_rewards(state, next_state):\n",
        "  reward = 0\n",
        "  # first initiate terminal state of eliminating tumor\n",
        "  if state['Number of Cancer Cells'] == 0:\n",
        "    reward += 100000000\n",
        "  # if tumor gets too big it kills patient:\n",
        "  if state['Number of Cancer Cells'] >= 5000000:\n",
        "    reward -= 10000\n",
        "  # if we have dangerously low immune cell counts add signifcant penalty (patient death)\n",
        "  if state['CD8 Count'] + state['M1 Count'] + state['NK Count'] <= 1e-6:\n",
        "    reward -= 10000\n",
        "  # if we have dangerously high immune cell counts add signifcant penalty (patient death)\n",
        "  if state['CD8 Count'] + state['M1 Count'] + state['NK Count'] >= 19000:\n",
        "    reward -= 10000\n",
        "  # eliminating cancer cell add reward\n",
        "  number_of_killed_cells = state['Number of Cancer Cells'] - next_state['Number of Cancer Cells']\n",
        "  reward += number_of_killed_cells * 1000\n",
        "  # add reward for cell death probability\n",
        "  cell_death_diff = next_state['Cell Death Probability'] - state['Cell Death Probability']\n",
        "  reward += cell_death_diff * 1000\n",
        "  # add reward for increasing number of immune cells\n",
        "  cd8_diff = next_state['CD8 Count'] - state['CD8 Count']\n",
        "  m1_diff = next_state['M1 Count'] - state['M1 Count']\n",
        "  nk_diff = next_state['NK Count'] - state['NK Count']\n",
        "  reward += cd8_diff + 0.5 * m1_diff + nk_diff\n",
        "  return reward"
      ],
      "metadata": {
        "id": "gQKSIQ3W5QDm"
      },
      "execution_count": null,
      "outputs": []
    },
    {
      "cell_type": "markdown",
      "source": [
        "Now after developing our environment, this we will use conduct a Monte Carlo simulation of 1000 episodes to explore the enironment and develop a q-table. Below is the code we will use to run our monte carlo simulation"
      ],
      "metadata": {
        "id": "9LO5g9sh6wEK"
      }
    },
    {
      "cell_type": "code",
      "source": [
        "# Initialize Q-table for Monte Carlo\n",
        "action_space = ['Do Nothing', 'Chemotherapy', 'Boost Pro Immune Cytokines', 'Boost Tumor Suppression Cytokines', 'Boost Immune Suppression Cytokines']\n",
        "state_space_size = 1000  # Example: Define a discrete state space size\n",
        "Q_table = np.zeros((state_space_size, len(action_space)))\n",
        "\n",
        "# Helper function to discretize the state\n",
        "def discretize_state(state):\n",
        "    # Example: Discretize based on the number of cancer cells\n",
        "    cancer_cells = state['Number of Cancer Cells']\n",
        "    return min(int(cancer_cells / 5000), state_space_size - 1)  # Adjust based on your state space\n",
        "\n",
        "# Monte Carlo algorithm\n",
        "def monte_carlo(episodes=1000, gamma=0.99):\n",
        "    returns_sum = np.zeros((state_space_size, len(action_space)))\n",
        "    returns_count = np.zeros((state_space_size, len(action_space)))\n",
        "    successful_episodes = 0  # Counter for successful episodes\n",
        "\n",
        "    for episode in range(1, episodes + 1):  # Start from 1 for better readability in print statements\n",
        "        state = initialize_state()\n",
        "        episode_history = []\n",
        "        success = False  # Flag to track success\n",
        "\n",
        "        while True:\n",
        "            # Discretize the state\n",
        "            discrete_state = discretize_state(state)\n",
        "\n",
        "            # Choose action using epsilon-greedy policy\n",
        "            epsilon = 0.1\n",
        "            if random.uniform(0, 1) < epsilon:\n",
        "                action_index = random.randint(0, len(action_space) - 1)\n",
        "            else:\n",
        "                action_index = np.argmax(Q_table[discrete_state])\n",
        "\n",
        "            action = action_space[action_index]\n",
        "\n",
        "            # Take action and observe next state and reward\n",
        "            next_state = state_transitions(state, action)\n",
        "            reward = collect_rewards(state, next_state)\n",
        "\n",
        "            # Store the experience\n",
        "            episode_history.append((discrete_state, action_index, reward))\n",
        "\n",
        "            # Terminal conditions\n",
        "            if next_state['Number of Cancer Cells'] == 0:\n",
        "                success = True  # Mark episode as successful\n",
        "                break\n",
        "            if next_state['Number of Cancer Cells'] >= 5000000:\n",
        "                break\n",
        "            if state['CD8 Count'] + state['M1 Count'] + state['NK Count'] <= 1e-6:\n",
        "                break\n",
        "            if state['CD8 Count'] + state['M1 Count'] + state['NK Count'] >= 19000:\n",
        "                break\n",
        "\n",
        "            state = next_state\n",
        "\n",
        "        # Count successful episodes\n",
        "        if success:\n",
        "            successful_episodes += 1\n",
        "\n",
        "        # Update Q-table using Monte Carlo\n",
        "        G = 0\n",
        "        for t in reversed(range(len(episode_history))):\n",
        "            discrete_state, action_index, reward = episode_history[t]\n",
        "            G = gamma * G + reward\n",
        "            returns_sum[discrete_state, action_index] += G\n",
        "            returns_count[discrete_state, action_index] += 1\n",
        "            Q_table[discrete_state, action_index] = returns_sum[discrete_state, action_index] / returns_count[discrete_state, action_index]\n",
        "\n",
        "        # Print progress every 25 episodes, including the number of successful episodes\n",
        "        if episode % 100 == 0:\n",
        "            print(f\"Episode {episode} completed. Successful episodes so far: {successful_episodes}\")\n",
        "\n",
        "    return Q_table\n",
        "\n",
        "# Run Monte Carlo\n",
        "Q_table_mc = monte_carlo(episodes=1000)"
      ],
      "metadata": {
        "id": "MeXXLSbP5min"
      },
      "execution_count": null,
      "outputs": []
    },
    {
      "cell_type": "markdown",
      "source": [
        "Now we will use reinforcement learning in order to train our model. Below is the q learning function that we will use to train our model and the function to test our policy from Q-learning and compare it to our baseline (random search)."
      ],
      "metadata": {
        "id": "EGzxstYo9BoO"
      }
    },
    {
      "cell_type": "code",
      "source": [
        "import random\n",
        "import numpy as np\n",
        "\n",
        "# Initialize Q-table for Q-Learning\n",
        "state_space_size = 1000  # Example: Define a discrete state space size\n",
        "Q_table = np.zeros((state_space_size, len(action_space)))\n",
        "\n",
        "# Helper function to discretize the state\n",
        "def discretize_state(state):\n",
        "    # Example: Discretize based on the number of cancer cells\n",
        "    cancer_cells = state['Number of Cancer Cells']\n",
        "    return min(int(cancer_cells / 5000), state_space_size - 1)  # Adjust based on your state space\n",
        "\n",
        "# Q-Learning algorithm\n",
        "def q_learning(episodes=1000, alpha=0.1, gamma=0.99, initial_epsilon=1.0, min_epsilon=0.01, decay_rate=0.995):\n",
        "    successful_episodes = 0  # Counter for successful episodes\n",
        "    epsilon = initial_epsilon  # Initialize epsilon for epsilon-greedy policy\n",
        "\n",
        "    for episode in range(episodes):\n",
        "        state = initialize_state()\n",
        "        success = False  # Track whether the episode is successful\n",
        "\n",
        "        while True:\n",
        "            # Discretize the state\n",
        "            discrete_state = discretize_state(state)\n",
        "\n",
        "            # Choose action using epsilon-greedy policy\n",
        "            if random.uniform(0, 1) < epsilon:\n",
        "                action_index = random.randint(0, len(action_space) - 1)  # Explore\n",
        "            else:\n",
        "                action_index = np.argmax(Q_table[discrete_state])  # Exploit\n",
        "\n",
        "            action = action_space[action_index]\n",
        "\n",
        "            # Take action and observe next state and reward\n",
        "            next_state = state_transitions(state, action)\n",
        "            reward = collect_rewards(state, next_state)\n",
        "\n",
        "            # Discretize the next state\n",
        "            next_discrete_state = discretize_state(next_state)\n",
        "\n",
        "            # Update Q-table\n",
        "            Q_table[discrete_state, action_index] += alpha * (\n",
        "                reward + gamma * np.max(Q_table[next_discrete_state]) - Q_table[discrete_state, action_index]\n",
        "            )\n",
        "\n",
        "            # Terminal conditions\n",
        "            if next_state['Number of Cancer Cells'] == 0:\n",
        "                success = True  # Mark episode as successful\n",
        "                break\n",
        "            if next_state['Number of Cancer Cells'] >= 5000000:\n",
        "                break\n",
        "            if state['CD8 Count'] + state['M1 Count'] + state['NK Count'] <= 1e-6:\n",
        "                break\n",
        "            if state['CD8 Count'] + state['M1 Count'] + state['NK Count'] >= 19000:\n",
        "                break\n",
        "\n",
        "            state = next_state\n",
        "\n",
        "        # Count successful episodes\n",
        "        if success:\n",
        "            successful_episodes += 1\n",
        "\n",
        "        # Decay epsilon to reduce exploration over time\n",
        "        epsilon = max(min_epsilon, epsilon * decay_rate)\n",
        "\n",
        "        # Print progress every 100 episodes\n",
        "        if (episode + 1) % 100 == 0:\n",
        "            print(f\"Episode {episode + 1} completed. Successful episodes so far: {successful_episodes}, Epsilon: {epsilon:.4f}\")\n",
        "\n",
        "    return Q_table, successful_episodes\n",
        "\n",
        "# Run Q-Learning\n",
        "Q_table_ql, successful_episodes = q_learning(episodes=1000)\n",
        "print(f\"Total Successful Episodes: {successful_episodes}\")"
      ],
      "metadata": {
        "id": "L8JgAiA-8dT6"
      },
      "execution_count": null,
      "outputs": []
    },
    {
      "cell_type": "code",
      "source": [
        "def test_policy(Q_table, n_cancer_cells=10):\n",
        "    state = initialize_state(n_cancer_cells)\n",
        "    tumor_size = [state['Number of Cancer Cells']]\n",
        "\n",
        "    while True:\n",
        "        discrete_state = discretize_state(state)\n",
        "        action_index = np.argmax(Q_table[discrete_state])\n",
        "        action = action_space[action_index]\n",
        "        next_state = state_transitions(state, action)\n",
        "        tumor_size.append(next_state['Number of Cancer Cells'])\n",
        "        if next_state['Number of Cancer Cells'] == 0 or next_state['Number of Cancer Cells'] >= 5000000:\n",
        "            break\n",
        "        state = next_state\n",
        "    return tumor_size\n",
        "tumor_size_mc = test_policy(Q_table_mc, n_cancer_cells=150)\n",
        "tumor_size_ql = test_policy(Q_table_ql, n_cancer_cells=150)\n",
        "plt.figure(figsize=(10, 6))\n",
        "plt.plot(tumor_size_mc, label='Monte Carlo')\n",
        "plt.plot(tumor_size_ql, label='Q-Learning')\n",
        "plt.xlabel('Time Steps')\n",
        "plt.ylabel('Tumor Size')\n",
        "plt.legend()\n",
        "plt.title('Tumor Size Over Time')\n",
        "plt.show()"
      ],
      "metadata": {
        "id": "xtaU9_zk9NOW"
      },
      "execution_count": null,
      "outputs": []
    },
    {
      "cell_type": "markdown",
      "source": [
        "# Evaluation Metrics\n",
        "A successful simulation is defined as one in which all cancer cells are eliminated without compromising the immune system. To assess our model’s performance, we use the following evaluation metrics:\n",
        "\n",
        "- **Success Rate** – Measures the proportion of simulations where the tumor is fully eliminated, providing a key indicator of treatment effectiveness. Refer to the equation below for this.\n",
        "\n",
        "\n",
        "\n",
        "![image.png](data:image/png;base64,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)\n",
        "\n",
        "- **Convergence Speed** – Evaluates how quickly our Q-learning model reaches the success state compared to the Monte Carlo baseline. This is determined by tracking the number of time steps required to reduce the tumor size to zero.\n",
        "\n",
        "- **Q-Table Analysis** – Examines the learned Q-values by averaging the values for each action in the Q-table, providing insights into decision-making patterns and policy optimization.\n"
      ],
      "metadata": {
        "id": "31L9r-MyJVzT"
      }
    },
    {
      "cell_type": "markdown",
      "source": [
        "# Results\n",
        "\n",
        "## Section 1: Single Episode Performance\n",
        "\n",
        "After obtaining both our MC policy and Q-learning policy we would generate an episode with initiation of 150 cancer cells and evaluate how well each policy performed. Each graph will show the discretized tumor size over time.\n",
        "\n",
        "Below is the graph we have obtained from the Monte Carlo simulation and also the Q-learning simulation\n",
        "\n",
        "![image.png](data:image/png;base64,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)"
      ],
      "metadata": {
        "id": "uDGZPjUY0QE2"
      }
    },
    {
      "cell_type": "markdown",
      "source": [
        "As shown in the graph, there is a drastic decrease in tumor size, reaching a size of 1 at time = 4 for the Monte Carlo policy. The tumor size remains stable until time = 30, after which there is a slight increase before all tumor cells are eliminated at time = 35. For the Q-learning policy, the tumor decreases at approximately the same rate as in the Monte Carlo policy. However, the key difference is that the Q-learning policy reaches the success state faster, achieving it at time = 25, whereas the Monte Carlo policy reaches it at time = 35. This represents a significant reduction in the number of time steps.\n"
      ],
      "metadata": {
        "id": "Um560DUL3JoG"
      }
    },
    {
      "cell_type": "markdown",
      "source": [
        "\n",
        "#Section 2: Success Rate of Each Policy Over 1000 Episodes\n",
        "Next, we generated 1000 episodes, each starting with 150 cancer cells, and ran them using the Monte Carlo policy. We then generated another 1000 episodes using the Q-learning policy. Our goal was to evaluate how many episodes successfully reached a tumor size of zero.\n",
        "\n",
        "We use the following code to determine the number of successful episodes:\n"
      ],
      "metadata": {
        "id": "YhaB0IUd5awZ"
      }
    },
    {
      "cell_type": "code",
      "source": [
        "def success_rate_of_policy(Q_table, num_episodes, n_cancer_cells):\n",
        "    success_count = 0\n",
        "    for episode in tqdm(range(num_episodes), desc=\"Running Simulation\", unit=\"episode\"):\n",
        "        state = initialize_state(n_cancer_cells)\n",
        "        tumor_size = [state['Number of Cancer Cells']]\n",
        "        while True:\n",
        "            discrete_state = discretize_state(state)\n",
        "            action_index = np.argmax(Q_table[discrete_state])\n",
        "            action = action_space[action_index]\n",
        "            next_state = state_transitions(state, action)\n",
        "            tumor_size.append(next_state['Number of Cancer Cells'])\n",
        "            if next_state['Number of Cancer Cells'] == 0:\n",
        "                success_count += 1\n",
        "                break\n",
        "            if next_state['Number of Cancer Cells'] >= 5000000:\n",
        "                break\n",
        "            if state['CD8 Count'] + state['M1 Count'] + state['NK Count'] <= 1e-6:\n",
        "                break\n",
        "            if state['CD8 Count'] + state['M1 Count'] + state['NK Count'] >= 19000:\n",
        "                break\n",
        "            state = next_state\n",
        "    return success_count / num_episodes"
      ],
      "metadata": {
        "id": "oF8tndCF3JAm"
      },
      "execution_count": null,
      "outputs": []
    },
    {
      "cell_type": "markdown",
      "source": [
        "The results are quite shocking but somewhat expected. For Monte Carlo we got a success rate of 29.2% whereas with q-learning we got a success rate of 49.1% a 19.9% increase. As expected q-learning outperformed the Monte Carlo policy as q-learning updates the policy after each action whereas Monte Carlo has a run a full episode before doing so.\n",
        "\n",
        "## Section 3: Q-table analysis\n",
        "\n",
        "Now let us take a look at our q_tables. For our q-tables we will both look at the max values for each action, and the mean value for each action. Below is the analysis for the Monte Carlo q-table:\n",
        "\n",
        "![image.png](data:image/png;base64,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)"
      ],
      "metadata": {
        "id": "hzG9ypOG5J3G"
      }
    },
    {
      "cell_type": "markdown",
      "source": [
        "For our Monte Carlo q-table, we see that we do not reach any positive rewards rather we only have negative rewards. But the magnitude drastically differs. Here we see that according to the means, chemotherapy performs the best followed by boosting tumor supression cytokines, boosting immune suppression cytokines, boosting pro immune cytokines, then doing nothing. Looking that this q-table it is clear why we have a smaller success rate than that of q-learning, that because we never achieve true postitive q values."
      ],
      "metadata": {
        "id": "3wwQKDHkBrYt"
      }
    },
    {
      "cell_type": "markdown",
      "source": [
        "Below is the analysis for the q-learning q-table:\n",
        "\n",
        "![image.png](data:image/png;base64,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)"
      ],
      "metadata": {
        "id": "6nzfJ7jwBgCt"
      }
    },
    {
      "cell_type": "markdown",
      "source": [
        "Here we see that Chemotherapy is the one action that will lead to a mean net positive reward, while the rest are net negative rewards. We notice that doing nothing leads to the least amount of reward, and that boosting pro immune cytokines performs fairly well despite the fact that it is still a negative reward. Overall, it is shown in our q-learning q table that chemotherapy is the best action that we can take.\n",
        "\n",
        "In comparison to that of Monte Carlo, this q-table supports why Q-learning outperforms Monte Carlo. In Q learning we have drastically postive values for chemotherapy indicating that it is truely the best course of action, whereas in Monte Carlo, chemotherapy is still the best option however all rewards have proven to be negative even that of chemotherapy. Becuase Chemotherapy is the clear best option for Q-learning, it will tend to repeat this action and as a result we will have a higher success rate as depicted in section 2."
      ],
      "metadata": {
        "id": "0QZqrslm9wkL"
      }
    },
    {
      "cell_type": "markdown",
      "source": [
        "# Discussion\n",
        "\n",
        "Our study demonstrates that reinforcement learning, specifically Q-learning, offers significant advantages in optimizing treatment strategies for tumor microenvironments compared to traditional Monte Carlo methods. The key findings from our analysis include the following:  \n",
        "\n",
        "1. **Chemotherapy is the most effective treatment**  \n",
        "   Our results indicate that chemotherapy consistently leads to the highest tumor reduction, with Q-learning reinforcing this action as the optimal choice. While chemotherapy has known risks, our model prioritizes it because it yields the highest positive reward in Q-tables, indicating a higher probability of achieving complete tumor elimination.  \n",
        "\n",
        "2. **Boosting pro-immune cytokines provides some benefits but remains suboptimal**  \n",
        "   Compared to other treatment strategies, increasing pro-immune cytokines showed better performance, but its overall reward remained negative in both Monte Carlo and Q-learning policies. This suggests that while immune stimulation aids in tumor suppression, it is insufficient as a standalone treatment.  \n",
        "\n",
        "3. **Boosting immune suppression and tumor suppression cytokines are ineffective**  \n",
        "   Our analysis revealed that both immune suppression and tumor suppression cytokine therapies performed similarly to taking no action at all. The Q-values assigned to these actions were near zero or negative, reinforcing that these strategies do not significantly contribute to tumor reduction and may even hinder the immune system’s ability to fight cancer.  \n",
        "\n",
        "4. **Q-learning outperforms Monte Carlo in success rate and convergence speed**  \n",
        "   Our model achieved a 49.1% success rate with Q-learning compared to 29.2% with Monte Carlo, highlighting the advantage of updating the policy after each action rather than waiting until the end of an episode. Additionally, Q-learning reached the success state 10 time steps faster on average, demonstrating its efficiency in identifying effective treatment sequences.  \n",
        "\n",
        "These results emphasize the importance of reinforcement learning in medical decision-making and the potential for AI-driven models to refine cancer treatment strategies. While chemotherapy remains the best option in our simulation, future studies could explore ways to improve immune-based therapies and further optimize treatment combinations.\n",
        "\n",
        "### Reflection and Limitations\n",
        "\n",
        "While our model was effect at modeling the effects of treatments within the tumor microenvironment, there may have been some room for improvement:\n",
        "\n",
        "\n",
        "*   While decent, having a state space size of 1000 may be insufficient to fully represent the complexity of a real-world tumor microenvironment, which could involve far more variables.\n",
        "*   Additonally, the reward function plays a significant role in shaping the policy. If the rewards were not perfectly calibrated to reflect the biological consequences of different treatments, the policy may favor suboptimal actions.\n",
        "* Furthermore, cancer and tumor microenvironments are very complex and there may be other variables that could change the risk or possible benefits of certain treatment options on a patient to patient basis\n",
        "* In addition the number of parameters that go into creating a real tumor microenvironment is very extensive. Though the data may be available to create this microenvironment, we would be limited extensively by our compute power\n",
        "\n",
        "Overall, this project demonstrated the potential of using MDPs and Monte Carlo simulation to model complex biological environments, providing insight into how different treatment strategies may influence a tumor microenvironment.\n",
        "\n",
        "### Future work\n",
        "Developing a realistic tumor microenvironment was the most challenging aspect of this project. Our current model simplifies tumor proliferation by considering only three immune cell types (CD8 T-cells, M1 Macrophages, and NK cells), but future work should expand this to include additional immune cells for a more comprehensive representation. Similarly, our action space is limited to a few treatment strategies, while real-world cancer therapies involve a variety of approaches. Additionally, tumors interact not only with immune cells but also with surrounding organs and normal tissue. Cellular properties like adhesion (how cells stick together) and motility (cell movement) also influence tumor behavior and should be incorporated into future models.\n",
        "\n",
        "### Ethics and Privacy\n",
        "In our project, we have carefully considered the ethical concerns that may arise from our simulation of the tumor microenvironment. These concerns include:\n",
        "\n",
        " 1. **Data Privacy & Security**\n",
        "- Our project relies on clinical datasets that may contain sensitive patient health information.\n",
        "- While our data may be anonymized, the combination of multiple datasets can increase the risk of **re-identification**, leading to potential privacy violations.\n",
        "- We will strictly adhere to **data privacy regulations** such as **HIPAA** and **GDPR** and follow best practices in secure data handling.\n",
        "\n",
        " 2. **Bias in Data & Model Fairness**\n",
        "- The data we use may not be **representative of diverse populations**, potentially leading to biased treatment suggestions.\n",
        "- **Genetic and immune responses** vary across demographic populations. If certain groups are underrepresented, our model may provide **ineffective or even discriminatory** treatment suggestions.\n",
        "\n",
        " 3. **Ethical Use of AI in Medicine**\n",
        "- AI-driven treatment suggestions may reduce **human oversight**, increasing the risk of **misdiagnosis** or severe complications.\n",
        "- **Over-reliance on AI** could lead to diminished physician supervision, which is critical for accurate patient care.\n",
        "\n",
        " 4. **Transparency**\n",
        "- We will **explicitly present** all limitations, biases, and ethical concerns related to our model and dataset.\n",
        "- Open discussion of these limitations will help ensure **responsible use** of our model.\n",
        "\n",
        " 5. **Improper Use & Misinterpretation of the Model**\n",
        "- Our simulation **simplifies** complex tumor environments, meaning it cannot **fully capture** real-world biological variations.\n",
        "- Misuse of our model could lead to **false reassurance** about a given treatment plan, disregarding **patient-to-patient variability**.\n",
        "\n",
        "6. **Accessibility & Healthcare Disparities**\n",
        "- AI-based cancer treatment solutions may only be accessible to **well-funded healthcare institutions**, further reinforcing **existing disparities** in healthcare.\n",
        "- We will strive to consider **equitable access** when developing and deploying our model.\n",
        "\n",
        "### Conclusion\n",
        "This project explored the use of AI to model complex biological environments, specifically a tumor microenvironment, using a Markov Decision Process (MDP) and Monte Carlo simulations. By simulating treatment strategies such as chemotherapy, boosting pro-immune cytokines, and boosting tumor suppression cytokines, we aimed to evaluate their effects on tumor progression and immune system stability.\n",
        "\n",
        "Our findings indicate that chemotherapy was the most effective treatment, followed by pro-immune cytokine therapy, while immune suppression and tumor suppression cytokine therapies showed minimal benefits. Q-learning outperformed Monte Carlo, demonstrating faster convergence and a higher success rate in reducing tumor size.  Despite these successes, our model has limitations. The simplified state space may not fully capture the complexity of real-world tumor environments, and the reward function could be further refined to improve decision-making accuracy. Additionally, the computational constraints limited our ability to incorporate more variables.\n",
        "\n",
        "Overall, this study highlights the potential of reinforcement learning in optimizing cancer treatment strategies. While not a substitute for clinical decision-making, AI-driven models like ours can provide valuable insights for future research in personalized medicine and treatment planning.\n",
        "\n"
      ],
      "metadata": {
        "id": "XlEqIWQb2Mdy"
      }
    },
    {
      "cell_type": "markdown",
      "source": [
        "**Note**: For full coding scripts please refer to the Final_State_Action_Transition_Buildout.ipynb notebook inside the Github repo"
      ],
      "metadata": {
        "id": "rIZ7GxvWFSQt"
      }
    },
    {
      "cell_type": "markdown",
      "source": [
        "# Footnotes\n",
        "\n",
        "1. **NCI Dictionary of Cancer Terms**.  \n",
        "   *Comprehensive Cancer Information - NCI*.  \n",
        "   [www.cancer.gov/publications/dictionaries/cancer-terms/def/tumor-microenvironment](https://www.cancer.gov/publications/dictionaries/cancer-terms/def/tumor-microenvironment)  \n",
        "   *Accessed 13 Feb. 2025.*\n",
        "\n",
        "2. **Reyes-Aldasoro, Constantino Carlos**.  \n",
        "   *\"Modelling the Tumour Microenvironment, but What Exactly Do We Mean by ‘Model’?\"*  \n",
        "   *Cancers, U.S. National Library of Medicine*, 26 July 2023.  \n",
        "   [PMC10416922](https://pmc.ncbi.nlm.nih.gov/articles/PMC10416922/)\n",
        "\n",
        "3. **Ahmed, Hossain, et al.**  \n",
        "   *\"Role of T Cells in Cancer Immunotherapy: Opportunities and Challenges.\"*  \n",
        "   *Cancer Pathogenesis and Therapy, U.S. National Library of Medicine*, 20 Dec. 2022.  \n",
        "   [PMC10846312](https://pmc.ncbi.nlm.nih.gov/articles/PMC10846312/)\n",
        "\n",
        "4. **Dennis, Kristen L, et al.**  \n",
        "   *\"Current Status of Interleukin-10 and Regulatory T-Cells in Cancer.\"*  \n",
        "   *Current Opinion in Oncology, U.S. National Library of Medicine*, Nov. 2013.  \n",
        "   [PMC4322764](https://pmc.ncbi.nlm.nih.gov/articles/PMC4322764/)\n",
        "\n"
      ],
      "metadata": {
        "id": "kVeMbZsVIC1o"
      }
    }
  ]
}