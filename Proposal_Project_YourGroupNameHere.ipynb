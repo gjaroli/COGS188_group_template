{
 "cells": [
  {
   "attachments": {},
   "cell_type": "markdown",
   "metadata": {},
   "source": [
    "# COGS 188 - Project Proposal"
   ]
  },
  {
   "attachments": {},
   "cell_type": "markdown",
   "metadata": {},
   "source": [
    "# Project Description\n",
    "\n",
    "You have the choice of doing either (1) an AI solve a problem style project or (2) run a Special Topics class on a topic of your choice.  If you want to do (2) you should fill out the _other_ proposal for that. This is the proposal description for (1).\n",
    "\n",
    "You will design and execute a machine learning project. There are a few constraints on the nature of the allowed project. \n",
    "- The problem addressed will not be a \"toy problem\" or \"common training students problem\" like 8-Queens or a small Traveling Salesman Problem or similar\n",
    "- If its the kind of problem (e.g., RL) that interacts with a simulator or live task, then the problem will have a reasonably complex action space. For instance, a wupus world kind of thing with a 9x9 grid is definitely too small.  A simulated mountain car with a less complex 2-d road and simplified dynamics seems like a fairly low achievement level.  A more complex 3-d mountain car simulation with large extent and realistic dynamics, sure sounds great!\n",
    "- If its the kind of problem that uses a dataset, then the dataset will have >1k observations and >5 variables. I'd prefer more like >10k observations and >10 variables. A general rule is that if you have >100x more observations than variables, your solution will likely generalize a lot better. The goal of training an unsupervised machine learning model is to learn the underlying pattern in a dataset in order to generalize well to unseen data, so choosing a large dataset is very important.\n",
    "- The project must include some elements we talked about in the course\n",
    "- The project will include a model selection and/or feature selection component where you will be looking for the best setup to maximize the performance of your AI system. Generally RL tasks may require a huge amount of training, so extensive grid search is unlikely to be possible. However expoloring a few reasonable hyper-parameters may still be possible. \n",
    "- You will evaluate the performance of your AI system using more than one appropriate metric\n",
    "- You will be writing a report describing and discussing these accomplishments\n",
    "\n",
    "\n",
    "Feel free to delete this description section when you hand in your proposal."
   ]
  },
  {
   "cell_type": "markdown",
   "metadata": {},
   "source": [
    "# Names\n",
    "\n",
    "Hopefully your team is at least this good. Obviously you should replace these with your names.\n",
    "\n",
    "- Kristoffer Alejo\n",
    "- Garvit Jaroli\n",
    "- Eric Chun\n",
    "- Rayan Abu-Hantash"
   ]
  },
  {
   "cell_type": "markdown",
   "metadata": {},
   "source": [
    "# Abstract \n",
    "For our project, we aim to develop a simulation of the tumor microenvironment using a Markov Decision Process (MDP) and Monte Carlo simulation to model the immune system's response to cancer with various treatment strategies. The data being used in our project represents biological factors like T-cell activity, macrophages, and more to analyze the effectiveness of different types of immunotherapies. We will be doing a reinforcement learning model to learn and optimize treatment strategies to identify the best actions for reducing cancer cells while minimizing damage to the immune system. Success will be measured by the percentage of simulations that are able to successfully reach the desired goal state as that will indicate the effective tumor suppression while also maintaining the immune system together. "
   ]
  },
  {
   "attachments": {},
   "cell_type": "markdown",
   "metadata": {},
   "source": [
    "# Background\n",
    "In our study, we plan to create a simulation of a tumor microenvironment, where we aim to analyze the immune system’s response to cancer as well as potential therapies and drug treatments. First we must define what a tumor microenvironment is. As defined by the National Cancer Institute (NIH), they define a tumor microenvironment as “The normal cells, molecules, and blood vessels that surround and feed a tumor cell. A tumor can change its microenvironment, and the microenvironment can affect how a tumor grows and spreads” [<sup>[1]</sup>](https://www.cancer.gov/publications/dictionaries/cancer-terms/def/tumor-microenvironment).\n",
    "\n",
    "So now we have to ask how we can model the tumor microenvironment? The article “Modelling the Tumour Microenvironment, but What Exactly Do We Mean by Model” answers this question. According to the author Reyes-Aldasoro, “Stochastic models of tumor microenvironments are more common than deterministic ones by an approximate ratio of 10 to 1, which is probably a reflection of the many factors related to cancer, like somatic evolution, which are not deterministic.” [<sup>[2]</sup>](https://pmc.ncbi.nlm.nih.gov/articles/PMC10416922/). Keeping this in mind we can take an MDP approach in modeling our tumor microenvironment as our state transitions are based on probabilities. Now to define our states, we refer back to the same article where they conducted a query to see the frequency of appearances of keywords associated with microenvironments, in order to determine which parameters may be necessary to keep in mind [<sup>[2]</sup>](https://pmc.ncbi.nlm.nih.gov/articles/PMC10416922/). Based on Figure 3 of this article and keeping in mind our limitations for this project, we have identified T cells, Cytokines, and Proliferation as key parameters to keep in mind when designing this model. Now to determine state transitions, the article discusses a series of mathematical models most notably the Malthusian Growth Model and Armitage and Doll Model which can be used to define our state transitions, particularly for cancer cell levels [<sup>[2]</sup>](https://pmc.ncbi.nlm.nih.gov/articles/PMC10416922/).\n",
    "\n",
    "When modeling the tumor microenvironment, we have defined T-cells as a key parameter in how we will approach our states, state transitions, and action space. According to the article “Role of T cells in cancer immunotherapy: Opportunities and challenges”, they state how T-cell therapy, particularly chimeric antigen receptor T cell therapy (CAR-T), can be very effective in eliminating cancer cells, however it can also potentially compromise the immune system [<sup>[3]</sup>](https://pmc.ncbi.nlm.nih.gov/articles/PMC10846312/). Therefore there needs to be a balance between T-cell therapy destroying cancer cells and not compromising the immune system. Pertaining to our action space, we can include T-cell therapy as an action where it will increase the number of T-cells and decrease the cancer levels. However, we can incorporate some probability of it compromising the immune system in our MDP implementation. Additionally, cytokines play an important role in this tumor microenvironment model, as we can use it to determine the state of the immune system. For example, when utilizing CAR-T therapy, it can cause a large release of cytokines, which leads to a severe reaction of the immune system. Additionally, when cytokine levels are low, it means the immune system is unresponsive, as a result, the tumor will continue to grow. In the article “Current Status of IL-10 and Regulatory T-cells in Cancer”, the article largely discusses the role of the IL-10 gene which is a type of cytokine. Their findings were that even though it was previously known that IL-10 was inhibiting T-cell activity, it can actually enhance T-cell activity when paired with genes such as IL-2 which is known to increase T-cell activity [<sup>[4]</sup>](https://pmc.ncbi.nlm.nih.gov/articles/PMC4322764/). What this means is that IL-10 on its own would lead to uncontrollable tumor growth, whereas IL-10 accompanied by IL-2 will lead to tumor suppression. What this ultimately means is that tracking IL-2 and IL-10 in our microenvironment simulation will be necessary for determining the state of the tumor in addition to T-cell levels in the microenvironment.\n",
    "\n",
    "Bringing all of these concepts together, we can effectively generate a tumor microenvironment simulation utilizing MDP and Monte Carlo simulations in order to determine the best course of action to destroy a cancer cell while keeping the immune system intact. With the knowledge that tumor microenvironments are stochastic rather than deterministic, we have the understanding that there may not be a definitive course of action that will lead to our goal state. This is where the Monte Carlo methods will come in. By running the simulations hundreds if not thousands of times, we can average out each episode and see which course of action will give us the highest probability of a good outcome.\n",
    "\n",
    "\n",
    "\n",
    "\n"
   ]
  },
  {
   "cell_type": "markdown",
   "metadata": {},
   "source": [
    "# Problem Statement\n",
    "\n",
    "Cancer treatments are known to be complex and complicated due to interactions between tumor cells and immune cells. Newly developed immunotherapy treatments like CAR-T cell therapy have been effective but also have had side effects such as overactivation or suppression of the immune system. This is where the challenge lies in identifying the best strategies of treatment that would efficiently suppress tumor growth without affecting the immune state. We aim to address this issue by developing a simulation model of the tumor microenvironment by using a Markov Decision Process and Monte Carlo simulation. Our model will incorporate T-cell activity, cytokine interactions, and proliferation dynamics in an attempt to explore the probabilistic progression of cancer growth and treatment outcome. Based on the use of clinical and genomic information, our goal is to create an AI system that learns and provides the best immunotherapy regimen recommendations through reinforcement learning. Our model's problem is expressed through a state space, action space, transition probabilities, and reward function. The tumor microenvironment is represented by key variables such as cancer cell levels, T-cell counts, and cytokine concentrations, while treatment actions, including CAR-T cell therapy and cytokine modulation, influence state transitions based on real-world clinical data. Transition probabilities capture the likelihood of moving between states, and a reward function is designed to optimize tumor reduction while maintaining immune stability. We will be measuring tumor cell reduction, cumulative reward, and success rate. Our problem is replicable as our model will be trained on publicly available clinical datasets so that it can be reproduced by other people. "
   ]
  },
  {
   "cell_type": "markdown",
   "metadata": {},
   "source": [
    "# Data\n",
    "\n",
    "- **Name**: CIBERSORT immune fractions  \n",
    "- **Link**: [The Immune Landscape of Cancer | NCI Genomic Data Commons](https://gdc.cancer.gov/about-data/publications/panimmune)  \n",
    "- **Dataset Size**: 11,373 rows × 27 columns  \n",
    "- **Features**:  \n",
    "  - `'SampleID'`, `'CancerType'`, `'B.cells.naive'`, `'B.cells.memory'`, `'Plasma.cells'`, `'T.cells.CD8'`  \n",
    "  - `'T.cells.CD4.naive'`, `'T.cells.CD4.memory.resting'`, `'T.cells.CD4.memory.activated'`  \n",
    "  - `'T.cells.follicular.helper'`, `'T.cells.regulatory..Tregs.'`, `'T.cells.gamma.delta'`  \n",
    "  - `'NK.cells.resting'`, `'NK.cells.activated'`, `'Monocytes'`  \n",
    "  - `'Macrophages.M0'`, `'Macrophages.M1'`, `'Macrophages.M2'`  \n",
    "  - `'Dendritic.cells.resting'`, `'Dendritic.cells.activated'`  \n",
    "  - `'Mast.cells.resting'`, `'Mast.cells.activated'`, `'Eosinophils'`, `'Neutrophils'`  \n",
    "  - `'P.value'`, `'Correlation'`, `'RMSE'`  \n",
    "- **Key Variables**:  \n",
    "  Each observation contains a **sample**, **cancer type**, and **normalized metrics** for expression levels of different **T-cells** (e.g., CD8 and CD4) and **macrophages**.  \n",
    "- **Handling**:  \n",
    "  We will **filter** for our cancer type of interest and **keep features** corresponding to **T-cells** and **macrophages**.  \n",
    "\n",
    "---\n",
    "\n",
    "- **Name**: Mutation Load  \n",
    "- **Link**: [The Immune Landscape of Cancer | NCI Genomic Data Commons](https://gdc.cancer.gov/about-data/publications/panimmune)  \n",
    "- **Dataset Size**: 10,123 rows × 5 columns  \n",
    "- **Features**:  \n",
    "  - `'Cohort'`  \n",
    "  - `'Patient_ID'`  \n",
    "  - `'Tumor_Sample_ID'`  \n",
    "  - `'Silent per Mb'`  \n",
    "  - `'Non-silent per Mb'`  \n",
    "- **Key Variables**:  \n",
    "  - `Cohort` identifies **cancer types of interest**.  \n",
    "  - `Silent per Mb` represents **mutation rates**, where **higher silent values** mean **immune therapies are less effective**.  \n",
    "  - `Non-silent per Mb` indicates a **higher likelihood** of being targeted by **T-cells**.  \n",
    "- **Handling**:  \n",
    "  - **Filter by `Cohort`** for the cancer of interest.  \n",
    "  - **Keep both `Silent per Mb` & `Non-silent per Mb`** to track cancer progression.  \n",
    "\n",
    "---\n",
    "\n",
    "- **Name**: Subtype-specific cytokine network with scores  \n",
    "- **Link**: [The Immune Landscape of Cancer | NCI Genomic Data Commons](https://gdc.cancer.gov/about-data/publications/panimmune)  \n",
    "- **Dataset Size**: 660 rows × 4 columns  \n",
    "- **Features**:  \n",
    "  - `'Subtype'`  \n",
    "  - `'From'` → **Cytokine type**  \n",
    "  - `'To'` → **Affected cell type**  \n",
    "  - `'Score'` → **Strength of the effect**  \n",
    "- **Key Variables**:  \n",
    "  - `'From'` represents the **cytokine type**.  \n",
    "  - `'To'` represents the **affected cell type**.  \n",
    "  - `'Score'` indicates how **strongly the cytokine affects the process**.  \n",
    "- **Handling**:  \n",
    "  - **Filter** `'From'` to **only** contain the following cytokines:  \n",
    "    - `IL2`  \n",
    "    - `IL2RA`  \n",
    "    - `IL12A`  \n",
    "    - `IL10`  \n",
    "\n",
    "---\n",
    "\n",
    "- **Name**: TCGA-BRCA Clinical Data  \n",
    "- **Link**: [cBioPortal for Cancer Genomics](https://www.cbioportal.org/study/summary?id=breast_cptac_gdc%2Cbreast_msk_2018%2Cbreast_alpelisib_2020%2Cbreast_ink4_msk_2021%2Cilc_msk_2023)  \n",
    "- **Dataset Size**: 5 datasets (`.gz` folder)  \n",
    "  - **We only use** `clinical.tsv` and `follow_up.tsv`  \n",
    "\n",
    " **Clinical.tsv** (`5,546 rows × 197 columns`)  \n",
    "- **Features**:  \n",
    "  - `'case_id'`, `'best_overall_response'`, `'days_to_best_overall_response'`, `'prior_treatment'`  \n",
    "  - `'days_to_treatment_end'`, `'days_to_treatment_start'`, `'drug_category'`  \n",
    "  - `'reason_treatment_ended'`, `'treatment_outcome'`, `'treatment_duration'`  \n",
    "\n",
    "**Follow_up.tsv** (`8,404 rows × 11 columns`)  \n",
    "- **Features**:  \n",
    "  - `'case_id'`  \n",
    "  - `'disease_response'`  \n",
    "\n",
    "- **Key Variables**:  \n",
    "  - **Clinical.tsv** → Keep only `'case_id'` and `'treatment_type'`  \n",
    "  - **Follow_up.tsv** → Keep only `'case_id'` and `'disease_response'`  \n",
    "  - **Merge** `clinical.tsv` & `follow_up.tsv` on `'case_id'`.  \n",
    "\n",
    "- **Handling**:  \n",
    "  - **Merge datasets** on `'case_id'`.  \n",
    "  - **Group by `treatment_type`** to see the **frequency** of **disease response** per treatment.  "
   ]
  },
  {
   "cell_type": "markdown",
   "metadata": {},
   "source": [
    "# Proposed Solution\n",
    "\n",
    "Cancer treatments are known to be complex and complicated due to interactions between tumor cells and immune cells. Newly developed immunotherapy treatments like CAR-T cell therapy have been effective but also have had side effects such as overactivation or suppression of the immune system. This is where the challenge lies in identifying the best strategies of treatment that would efficiently suppress tumor growth without affecting the immune state. We aim to address this issue by developing a simulation model of the tumor microenvironment by using a Markov Decision Process and Monte Carlo simulation. Our model will incorporate T-cell activity, cytokine interactions, and proliferation dynamics in an attempt to explore the probabilistic progression of cancer growth and treatment outcome. Based on the use of clinical and genomic information, our goal is to create an AI system that learns and provides the best immunotherapy regiOur proposed solution will be a step-by-step process:\n",
    "1. Modeling the Tumor Environment: We will model the tumor environment as a Markov Decision Process where the states represent the levels of cancer cells, T-cells, and cytokines. The actions in the decision process will include therapies such as CAR-T cell therapy and cytokine modulation. The state predictions will mostly be probabilistic which reflects the nature of tumor microenvironments. \n",
    "2. Simulation and Training: We will use Monte Carlo simulations to explore the state-action space. We will run thousands of simulations which allow us to average out the outcomes to determine the most effective strategy. We will use reinforcement learning techniques such as Q-learning to train our model. The Reinforcement Learning Agent will learn optimal policy by maximizing the cumulative reward defined.\n",
    "3. Feature Selection and Model Training: We will perform feature selection to identify the most relevant that influence the outcome which will allow us to reduce the complexity of our model and improve the generalization. We will also explore a bunch of hyperparameters to optimize the performance of the RL agent. We will try to focus on a few hyperparameters given the computational complexity. \n",
    "4. Benchmark Model: We will compare our RL-based solution against a benchmark model that uses a fixed policy to determine the need of CAR-T therapy when cancer cells exceed a certain threshold. This will help us quantify the improvement offered by our RL approach.\n",
    "\n",
    "This solution will be tested through simulation on the Monte Carlos simulations that explore the state-action and evaluate the performance of our RL agent. Through the Monte Carlos simulations, we will average the result to determine a success rate of the proposed therapies and overall effectiveness of our solutions. Additionally, the benchmark model will also help and offer improvements to our adaptive approach. The solution is applicable because it directly addresses the stochastic and complex nature of tumor microenvironments, which cannot be effectively modeled using deterministic approaches. By framing the problem as a Markov Decision Process and using Reinforcement Learning, we account for the probabilistic state transitions and the need for adaptive decision-making. \n",
    "men recommendations through reinforcement learning. Our model's problem is expressed through a state space, action space, transition probabilities, and reward function. The tumor microenvironment is represented by key variables such as cancer cell levels, T-cell counts, and cytokine concentrations, while treatment actions, including CAR-T cell therapy and cytokine modulation, influence state transitions based on real-world clinical data. Transition probabilities capture the likelihood of moving between states, and a reward function is designed to optimize tumor reduction while maintaining immune stability. We will be measuring tumor cell reduction, cumulative reward, and success rate. Our problem is replicable as our model will be trained on publicly available clinical datasets so that it can be reproduced by other people. \n"
   ]
  },
  {
   "cell_type": "markdown",
   "metadata": {},
   "source": [
    "# Evaluation Metrics\n",
    "\n",
    "## To evaluate the performance of our model:\n",
    "\n",
    "1. **Success Rate**: This metric will measure the percentage of simulations that successfully achieve the goal state. This metric will just be calculated using a simple calculation of:\n",
    "\n",
    "   ![Success Rate Formula](SR_formula.png)\n",
    "\n",
    "\n",
    "\n",
    "   This metric will be crucial as it directly reflects the effectiveness of the proposed therapies suggested by the RL agent. This metric is quite straightforward and simple.\n",
    "\n",
    "2. An in-depth evaluation metric **Average Cancer Cell Reduction**. This metric will be the average reduction in cancer cell levels across all simulations. This metric will help us provide insight into the effectiveness of the RL agent of the therapies it suggests in reducing the tumor burden.\n",
    "\n",
    "  ![Average Cancer Cell Reduction Formula](avg_cancercell.png)\n",
    "\n",
    "\n",
    "3. Lastly, another metric that we can use is the **Cumulative Reward**. Since we are using the Markov Decision Process framework, we will also evaluate the cumulative reward obtained over the course of each simulation. The reward function will be designed to incentivize both cancer cell reduction and immune system health.\n",
    "\n",
    "   ![Cummulative Reward](cummulative_reward.png)\n",
    "\n",
    "  In this equation, the R function is the reward obtained at time step t, where s_t is the state at time t and a_t is the action at the time.\n",
    "\n",
    "\n",
    "\n"
   ]
  },
  {
   "cell_type": "markdown",
   "metadata": {},
   "source": [
    "# Ethics & Privacy"
   ]
  },
  {
   "cell_type": "markdown",
   "metadata": {},
   "source": [
    "In our project, we have carefully considered the ethical concerns that may arise from our simulation of the tumor microenvironment. These concerns include:\n",
    "\n",
    " 1. **Data Privacy & Security**\n",
    "- Our project relies on clinical datasets that may contain sensitive patient health information.\n",
    "- While our data may be anonymized, the combination of multiple datasets can increase the risk of **re-identification**, leading to potential privacy violations.\n",
    "- We will strictly adhere to **data privacy regulations** such as **HIPAA** and **GDPR** and follow best practices in secure data handling.\n",
    "\n",
    " 2. **Bias in Data & Model Fairness**\n",
    "- The data we use may not be **representative of diverse populations**, potentially leading to biased treatment suggestions.\n",
    "- **Genetic and immune responses** vary across demographic populations. If certain groups are underrepresented, our model may provide **ineffective or even discriminatory** treatment suggestions.\n",
    "\n",
    " 3. **Ethical Use of AI in Medicine**\n",
    "- AI-driven treatment suggestions may reduce **human oversight**, increasing the risk of **misdiagnosis** or severe complications.\n",
    "- **Over-reliance on AI** could lead to diminished physician supervision, which is critical for accurate patient care.\n",
    "\n",
    " 4. **Transparency**\n",
    "- We will **explicitly present** all limitations, biases, and ethical concerns related to our model and dataset.\n",
    "- Open discussion of these limitations will help ensure **responsible use** of our model.\n",
    "\n",
    " 5. **Improper Use & Misinterpretation of the Model**\n",
    "- Our simulation **simplifies** complex tumor environments, meaning it cannot **fully capture** real-world biological variations.\n",
    "- Misuse of our model could lead to **false reassurance** about a given treatment plan, disregarding **patient-to-patient variability**.\n",
    "\n",
    "6. **Accessibility & Healthcare Disparities**\n",
    "- AI-based cancer treatment solutions may only be accessible to **well-funded healthcare institutions**, further reinforcing **existing disparities** in healthcare.\n",
    "- We will strive to consider **equitable access** when developing and deploying our model.\n",
    "\n"
   ]
  },
  {
   "cell_type": "markdown",
   "metadata": {},
   "source": [
    "# Team Expectations "
   ]
  },
  {
   "cell_type": "markdown",
   "metadata": {},
   "source": [
    "Put things here that cement how you will interact/communicate as a team, how you will handle conflict and difficulty, how you will handle making decisions and setting goals/schedule, how much work you expect from each other, how you will handle deadlines, etc...\n",
    "* Communication\n",
    "* Equity of work amongst all team members\n",
    "* Completing assigned work by the date mentioned\n",
    "* Respect\n",
    "* Be honest about how capable you are to do work (not committing to something you can’t do) *\n",
    "* Respond to messages within a timely manner (within 1 day)"
   ]
  },
  {
   "cell_type": "markdown",
   "metadata": {},
   "source": [
    "# Project Timeline Proposal"
   ]
  },
  {
   "cell_type": "markdown",
   "metadata": {},
   "source": [
    "Replace this with something meaningful that is appropriate for your needs. It doesn't have to be something that fits this format.  It doesn't have to be set in stone... \"no battle plan survives contact with the enemy\". But you need a battle plan nonetheless, and you need to keep it updated so you understand what you are trying to accomplish, who's responsible for what, and what the expected due dates are for each item.\n",
    "\n",
    "| Meeting Date  | Meeting Time| Completed Before Meeting  | Discuss at Meeting |\n",
    "|---|---|---|---|\n",
    "| 1/20  |  1 PM |  Brainstorm topics/questions (all)  | Determine best form of communication; Discuss and decide on final project topic; discuss hypothesis; begin background research | \n",
    "| 1/26  |  10 AM |  Do background research on topic (Pelé) | Discuss ideal dataset(s) and ethics; draft project proposal | \n",
    "| 2/1  | 10 AM  | Edit, finalize, and submit proposal; Search for datasets (Beckenbaur)  | Discuss Wrangling and possible analytical approaches; Assign group members to lead each specific part   |\n",
    "| 2/14  | 6 PM  | Import & Wrangle Data ,do some EDA (Maradonna) | Review/Edit wrangling/EDA; Discuss Analysis Plan   |\n",
    "| 2/23  | 12 PM  | Finalize wrangling/EDA; Begin programming for project (Cruyff) | Discuss/edit project code; Complete project |\n",
    "| 3/13  | 12 PM  | Complete analysis; Draft results/conclusion/discussion (Carlos)| Discuss/edit full project |\n",
    "| 3/19  | Before 11:59 PM  | NA | Turn in Final Project  |"
   ]
  },
  {
   "cell_type": "markdown",
   "metadata": {},
   "source": [
    "# Footnotes\n",
    "\n",
    "1. **NCI Dictionary of Cancer Terms**.  \n",
    "   *Comprehensive Cancer Information - NCI*.  \n",
    "   [www.cancer.gov/publications/dictionaries/cancer-terms/def/tumor-microenvironment](https://www.cancer.gov/publications/dictionaries/cancer-terms/def/tumor-microenvironment)  \n",
    "   *Accessed 13 Feb. 2025.*\n",
    "\n",
    "2. **Reyes-Aldasoro, Constantino Carlos**.  \n",
    "   *\"Modelling the Tumour Microenvironment, but What Exactly Do We Mean by ‘Model’?\"*  \n",
    "   *Cancers, U.S. National Library of Medicine*, 26 July 2023.  \n",
    "   [PMC10416922](https://pmc.ncbi.nlm.nih.gov/articles/PMC10416922/)\n",
    "\n",
    "3. **Ahmed, Hossain, et al.**  \n",
    "   *\"Role of T Cells in Cancer Immunotherapy: Opportunities and Challenges.\"*  \n",
    "   *Cancer Pathogenesis and Therapy, U.S. National Library of Medicine*, 20 Dec. 2022.  \n",
    "   [PMC10846312](https://pmc.ncbi.nlm.nih.gov/articles/PMC10846312/)\n",
    "\n",
    "4. **Dennis, Kristen L, et al.**  \n",
    "   *\"Current Status of Interleukin-10 and Regulatory T-Cells in Cancer.\"*  \n",
    "   *Current Opinion in Oncology, U.S. National Library of Medicine*, Nov. 2013.  \n",
    "   [PMC4322764](https://pmc.ncbi.nlm.nih.gov/articles/PMC4322764/)\n",
    "\n"
   ]
  },
  {
   "cell_type": "code",
   "execution_count": null,
   "metadata": {},
   "outputs": [],
   "source": []
  }
 ],
 "metadata": {
  "kernelspec": {
   "display_name": "Python 3",
   "language": "python",
   "name": "python3"
  },
  "language_info": {
   "codemirror_mode": {
    "name": "ipython",
    "version": 3
   },
   "file_extension": ".py",
   "mimetype": "text/x-python",
   "name": "python",
   "nbconvert_exporter": "python",
   "pygments_lexer": "ipython3",
   "version": "3.7.11 (default, Jul 27 2021, 07:03:16) \n[Clang 10.0.0 ]"
  },
  "vscode": {
   "interpreter": {
    "hash": "40d3a090f54c6569ab1632332b64b2c03c39dcf918b08424e98f38b5ae0af88f"
   }
  }
 },
 "nbformat": 4,
 "nbformat_minor": 2
}
